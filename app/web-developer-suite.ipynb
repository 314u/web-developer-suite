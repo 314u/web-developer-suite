{
 "cells": [
  {
   "cell_type": "code",
   "execution_count": null,
   "metadata": {},
   "outputs": [],
   "source": [
    "import pyautogui as ag\n",
    "import keyboard as kb\n",
    "import pyperclip as toClipboard\n",
    "from  pynput.keyboard import Key, Listener\n",
    "from PIL import ImageGrab\n",
    "from functools import partial\n"
   ]
  },
  {
   "cell_type": "code",
   "execution_count": null,
   "metadata": {},
   "outputs": [],
   "source": [
    "atalho = 'ctrl+print_screen'\n",
    "ImageGrab.grab = partial(ImageGrab.grab, all_screens=True)\n",
    "\n"
   ]
  },
  {
   "cell_type": "code",
   "execution_count": null,
   "metadata": {},
   "outputs": [],
   "source": [
    "def colorpicker():\n",
    "    x , y = ag.position()\n",
    "    print(\"Posição do mouse\")\n",
    "    print(\"x = \"+str(x)+\"y = \"+str(y))\n",
    "\n",
    "    #retorna True se x & y estiverem dentro da tela\n",
    "    print (\"\\nEsta dentro da tela?\")\n",
    "    resp = ag.onScreen(x, y)\n",
    "    print (str(resp))\n",
    "\n",
    "    screen = ag.screenshot() # type: ignore    \n",
    "    colorRGB = screen.getpixel((x,y))\n",
    "    colorHEX = '#%02x%02x%02x' % (colorRGB)\n",
    "\n",
    "    print(colorRGB)\n",
    "    print(colorHEX)\n",
    "\n",
    "    toClipboard.copy(colorHEX)\n",
    "\n",
    "\n"
   ]
  },
  {
   "cell_type": "code",
   "execution_count": null,
   "metadata": {},
   "outputs": [],
   "source": [
    "\n",
    "# def on_press(key):\n",
    "#     print('{0} pressed'.format(\n",
    "#         key))\n",
    "\n",
    "# def on_release(key):\n",
    "#     print('{0} release'.format(\n",
    "#         key))\n",
    "#     if key == Key.esc:\n",
    "#         # Stop listener\n",
    "#         return False\n",
    "\n",
    "# # Collect events until released\n",
    "# with Listener(\n",
    "#         on_press=on_press,\n",
    "#         on_release=on_release) as listener:\n",
    "#     listener.join()"
   ]
  },
  {
   "cell_type": "code",
   "execution_count": null,
   "metadata": {},
   "outputs": [],
   "source": [
    "kb.add_hotkey(atalho,colorpicker)\n",
    "kb.wait('esc')\n",
    "\n",
    "\n"
   ]
  }
 ],
 "metadata": {
  "kernelspec": {
   "display_name": "web-developer-suite",
   "language": "python",
   "name": "python3"
  },
  "language_info": {
   "codemirror_mode": {
    "name": "ipython",
    "version": 3
   },
   "file_extension": ".py",
   "mimetype": "text/x-python",
   "name": "python",
   "nbconvert_exporter": "python",
   "pygments_lexer": "ipython3",
   "version": "3.10.9 (tags/v3.10.9:1dd9be6, Dec  6 2022, 20:01:21) [MSC v.1934 64 bit (AMD64)]"
  },
  "orig_nbformat": 4,
  "vscode": {
   "interpreter": {
    "hash": "f25cb7bb0ac5d775672ba940975a7ba8ea9571a78ca7677e48b0a730ec0b54cd"
   }
  }
 },
 "nbformat": 4,
 "nbformat_minor": 2
}
