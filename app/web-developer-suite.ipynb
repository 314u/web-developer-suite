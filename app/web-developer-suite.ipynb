{
 "cells": [
  {
   "cell_type": "code",
   "execution_count": 12,
   "metadata": {},
   "outputs": [],
   "source": [
    "import pyautogui as ag\n",
    "import keyboard as kb\n",
    "import pyperclip as toClipboard\n",
    "from  pynput.keyboard import Key, Listener\n",
    "from PIL import ImageGrab\n",
    "from functools import partial\n"
   ]
  },
  {
   "cell_type": "code",
   "execution_count": 13,
   "metadata": {},
   "outputs": [],
   "source": [
    "atalho = 'ctrl+print_screen'\n",
    "ImageGrab.grab = partial(ImageGrab.grab, all_screens=True)\n",
    "\n"
   ]
  },
  {
   "cell_type": "code",
   "execution_count": 14,
   "metadata": {},
   "outputs": [],
   "source": [
    "def colorpicker():\n",
    "    x , y = ag.position()\n",
    "    print(\"Posição do mouse\")\n",
    "    print(\"x = \"+str(x)+\"y = \"+str(y))\n",
    "\n",
    "    #retorna True se x & y estiverem dentro da tela\n",
    "    print (\"\\nEsta dentro da tela?\")\n",
    "    resp = ag.onScreen(x, y)\n",
    "    print (str(resp))\n",
    "\n",
    "    screen = ag.screenshot()\n",
    "    colorRGB = screen.getpixel((x,y))\n",
    "    colorHEX = '#%02x%02x%02x' % (colorRGB)\n",
    "\n",
    "    print(colorRGB)\n",
    "    print(colorHEX)\n",
    "\n",
    "    toClipboard.copy(colorHEX)\n",
    "\n",
    "\n"
   ]
  },
  {
   "cell_type": "code",
   "execution_count": 15,
   "metadata": {},
   "outputs": [],
   "source": [
    "\n",
    "# def on_press(key):\n",
    "#     print('{0} pressed'.format(\n",
    "#         key))\n",
    "\n",
    "# def on_release(key):\n",
    "#     print('{0} release'.format(\n",
    "#         key))\n",
    "#     if key == Key.esc:\n",
    "#         # Stop listener\n",
    "#         return False\n",
    "\n",
    "# # Collect events until released\n",
    "# with Listener(\n",
    "#         on_press=on_press,\n",
    "#         on_release=on_release) as listener:\n",
    "#     listener.join()"
   ]
  },
  {
   "cell_type": "code",
   "execution_count": 16,
   "metadata": {},
   "outputs": [
    {
     "name": "stderr",
     "output_type": "stream",
     "text": [
      "Exception in thread Thread-4 (process):\n",
      "Traceback (most recent call last):\n",
      "  File \"C:\\Program Files\\WindowsApps\\PythonSoftwareFoundation.Python.3.10_3.10.2544.0_x64__qbz5n2kfra8p0\\lib\\threading.py\", line 1016, in _bootstrap_inner\n",
      "    self.run()\n",
      "  File \"C:\\Program Files\\WindowsApps\\PythonSoftwareFoundation.Python.3.10_3.10.2544.0_x64__qbz5n2kfra8p0\\lib\\threading.py\", line 953, in run\n",
      "    self._target(*self._args, **self._kwargs)\n",
      "  File \"c:\\DEV\\python\\web-developer-suite\\lib\\site-packages\\keyboard\\_generic.py\", line 58, in process\n",
      "    if self.pre_process_event(event):\n",
      "  File \"c:\\DEV\\python\\web-developer-suite\\lib\\site-packages\\keyboard\\__init__.py\", line 218, in pre_process_event\n",
      "    callback(event)\n",
      "  File \"c:\\DEV\\python\\web-developer-suite\\lib\\site-packages\\keyboard\\__init__.py\", line 649, in <lambda>\n",
      "    handler = lambda e: (event_type == KEY_DOWN and e.event_type == KEY_UP and e.scan_code in _logically_pressed_keys) or (event_type == e.event_type and callback())\n",
      "  File \"C:\\Users\\pyulo\\AppData\\Local\\Temp\\ipykernel_14632\\4268528075.py\", line 11, in colorpicker\n",
      "  File \"c:\\DEV\\python\\web-developer-suite\\lib\\site-packages\\pyscreeze\\__init__.py\", line 144, in wrapper\n",
      "    raise PyScreezeException('The Pillow package is required to use this function.')\n",
      "pyscreeze.PyScreezeException: The Pillow package is required to use this function.\n"
     ]
    },
    {
     "name": "stdout",
     "output_type": "stream",
     "text": [
      "Posição do mouse\n",
      "x = 1608y = 539\n",
      "\n",
      "Esta dentro da tela?\n",
      "True\n"
     ]
    }
   ],
   "source": [
    "kb.add_hotkey(atalho,colorpicker)\n",
    "kb.wait('esc')\n",
    "\n",
    "\n"
   ]
  }
 ],
 "metadata": {
  "kernelspec": {
   "display_name": "web-developer-suite",
   "language": "python",
   "name": "python3"
  },
  "language_info": {
   "codemirror_mode": {
    "name": "ipython",
    "version": 3
   },
   "file_extension": ".py",
   "mimetype": "text/x-python",
   "name": "python",
   "nbconvert_exporter": "python",
   "pygments_lexer": "ipython3",
   "version": "3.10.9"
  },
  "orig_nbformat": 4,
  "vscode": {
   "interpreter": {
    "hash": "f25cb7bb0ac5d775672ba940975a7ba8ea9571a78ca7677e48b0a730ec0b54cd"
   }
  }
 },
 "nbformat": 4,
 "nbformat_minor": 2
}
