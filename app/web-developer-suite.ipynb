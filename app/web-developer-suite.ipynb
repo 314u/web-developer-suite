{
 "cells": [
  {
   "cell_type": "code",
   "execution_count": 1,
   "metadata": {},
   "outputs": [],
   "source": [
    "import pyautogui as ag\n",
    "import keyboard as kb\n",
    "import pyperclip as toClipboard\n",
    "from  pynput import keyboard, mouse\n",
    "from PIL import ImageGrab\n",
    "from functools import partial\n",
    "from tkinter import *"
   ]
  },
  {
   "cell_type": "code",
   "execution_count": 3,
   "metadata": {},
   "outputs": [],
   "source": [
    "atalho = 'ctrl+print_screen'\n",
    "ImageGrab.grab = partial(ImageGrab.grab, all_screens=True)\n",
    "screen = ag.screenshot('print.png') # type: ignore\n",
    "dim=str(screen.width)+\"x\"+str(screen.height)\n",
    "root = Tk()\n",
    "root.overrideredirect(True)\n",
    "root.geometry(dim)\n",
    "\n",
    "\n",
    "bg = PhotoImage(file = \"print.png\")\n",
    "label = Label(root,image=bg)\n",
    "label.place(x=0,y=0)\n",
    "root.mainloop()\n",
    "\n"
   ]
  },
  {
   "cell_type": "code",
   "execution_count": 3,
   "metadata": {},
   "outputs": [],
   "source": [
    "def colorpicker():\n",
    "    x , y = ag.position()\n",
    "    print(\"Posição do mouse\")\n",
    "    print(\"x = \"+str(x)+\"y = \"+str(y))\n",
    "\n",
    "    #retorna True se x & y estiverem dentro da tela\n",
    "    print (\"\\nEsta dentro da tela?\")\n",
    "    resp = ag.onScreen(x, y)\n",
    "    print (str(resp))\n",
    "\n",
    "    screen = ag.screenshot() # type: ignore    \n",
    "    colorRGB = screen.getpixel((x,y))\n",
    "    colorHEX = '#%02x%02x%02x' % (colorRGB)\n",
    "\n",
    "    print(colorRGB)\n",
    "    print(colorHEX)\n",
    "\n",
    "    toClipboard.copy(colorHEX)\n",
    "\n",
    "\n"
   ]
  },
  {
   "cell_type": "code",
   "execution_count": 4,
   "metadata": {},
   "outputs": [],
   "source": [
    "def draw(x,y):\n",
    "    return\n"
   ]
  },
  {
   "cell_type": "code",
   "execution_count": 5,
   "metadata": {},
   "outputs": [
    {
     "name": "stdout",
     "output_type": "stream",
     "text": [
      "Pressed at (766, 581)\n",
      "Released at (765, 581)\n"
     ]
    }
   ],
   "source": [
    "def on_click(x, y, button, pressed):\n",
    "    draw(x,y)\n",
    "    print('{0} at {1}'.format(\n",
    "        'Pressed' if pressed else 'Released',\n",
    "        (x, y)))\n",
    "    if not pressed:\n",
    "        # Stop listener\n",
    "        return False\n",
    "\n",
    "with mouse.Listener(\n",
    "        on_click=on_click,\n",
    "        ) as listener:\n",
    "    listener.join()"
   ]
  },
  {
   "cell_type": "code",
   "execution_count": 6,
   "metadata": {},
   "outputs": [],
   "source": [
    "\n",
    "# def on_press(key):\n",
    "#     print('{0} pressed'.format(\n",
    "#         key))\n",
    "\n",
    "# def on_release(key):\n",
    "#     print('{0} release'.format(\n",
    "#         key))\n",
    "#     if key == Key.esc:\n",
    "#         # Stop listener\n",
    "#         return False\n",
    "\n",
    "# # Collect events until released\n",
    "# with Listener(\n",
    "#         on_press=on_press,\n",
    "#         on_release=on_release) as listener:\n",
    "#     listener.join()"
   ]
  },
  {
   "cell_type": "code",
   "execution_count": 7,
   "metadata": {},
   "outputs": [],
   "source": [
    "# kb.add_hotkey(atalho,colorpicker)\n",
    "# kb.wait('esc')\n",
    "\n",
    "\n"
   ]
  }
 ],
 "metadata": {
  "kernelspec": {
   "display_name": "web-developer-suite",
   "language": "python",
   "name": "python3"
  },
  "language_info": {
   "codemirror_mode": {
    "name": "ipython",
    "version": 3
   },
   "file_extension": ".py",
   "mimetype": "text/x-python",
   "name": "python",
   "nbconvert_exporter": "python",
   "pygments_lexer": "ipython3",
   "version": "3.10.6"
  },
  "orig_nbformat": 4,
  "vscode": {
   "interpreter": {
    "hash": "bcd705455dc1bc983dcfce2244620b9c0a1e51317e8ae6c6ff3b7c1154fc5717"
   }
  }
 },
 "nbformat": 4,
 "nbformat_minor": 2
}
